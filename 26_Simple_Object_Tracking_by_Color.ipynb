{
  "nbformat": 4,
  "nbformat_minor": 0,
  "metadata": {
    "colab": {
      "provenance": [],
      "include_colab_link": true
    },
    "kernelspec": {
      "name": "python3",
      "display_name": "Python 3"
    }
  },
  "cells": [
    {
      "cell_type": "markdown",
      "metadata": {
        "id": "view-in-github",
        "colab_type": "text"
      },
      "source": [
        "<a href=\"https://colab.research.google.com/github/Davron030901/OpenCv/blob/main/26_Simple_Object_Tracking_by_Color.ipynb\" target=\"_parent\"><img src=\"https://colab.research.google.com/assets/colab-badge.svg\" alt=\"Open In Colab\"/></a>"
      ]
    },
    {
      "cell_type": "markdown",
      "metadata": {
        "id": "0yyVyUZHdOJz"
      },
      "source": [
        "# **Simple Object Tracking by Color**\n",
        "\n",
        "####**In this lesson we'll learn:**\n",
        "1. How to use an HSV Color Filter to Create a Mask and then Track our Desired Object\n"
      ]
    },
    {
      "cell_type": "code",
      "metadata": {
        "id": "JUYTPAavdO3c",
        "colab": {
          "base_uri": "https://localhost:8080/"
        },
        "outputId": "d93d010a-123a-4fc2-a46a-22f9c42c109d"
      },
      "source": [
        "# Our Setup, Import Libaries, Create our Imshow Function and Download our Images\n",
        "import cv2\n",
        "import numpy as np\n",
        "from matplotlib import pyplot as plt\n",
        "\n",
        "# Define our imshow function\n",
        "def imshow(title = \"Image\", image = None, size = 10):\n",
        "    w, h = image.shape[0], image.shape[1]\n",
        "    aspect_ratio = w/h\n",
        "    plt.figure(figsize=(size * aspect_ratio,size))\n",
        "    plt.imshow(cv2.cvtColor(image, cv2.COLOR_BGR2RGB))\n",
        "    plt.title(title)\n",
        "    plt.show()\n",
        "\n",
        "!wget https://videos.pexels.com/video-files/4568863/4568863-hd_1920_1080_30fps.mp4"
      ],
      "execution_count": null,
      "outputs": [
        {
          "output_type": "stream",
          "name": "stdout",
          "text": [
            "--2024-11-19 03:40:30--  https://videos.pexels.com/video-files/4568863/4568863-hd_1920_1080_30fps.mp4\n",
            "Resolving videos.pexels.com (videos.pexels.com)... 104.18.67.220, 104.18.66.220, 2606:4700::6812:42dc, ...\n",
            "Connecting to videos.pexels.com (videos.pexels.com)|104.18.67.220|:443... connected.\n",
            "HTTP request sent, awaiting response... 200 OK\n",
            "Length: 13294604 (13M)\n",
            "Saving to: ‘4568863-hd_1920_1080_30fps.mp4’\n",
            "\n",
            "\r          4568863-h   0%[                    ]       0  --.-KB/s               \r4568863-hd_1920_108 100%[===================>]  12.68M  --.-KB/s    in 0.06s   \n",
            "\n",
            "2024-11-19 03:40:30 (195 MB/s) - ‘4568863-hd_1920_1080_30fps.mp4’ saved [13294604/13294604]\n",
            "\n"
          ]
        }
      ]
    },
    {
      "cell_type": "code",
      "source": [
        "import cv2\n",
        "import numpy as np\n",
        "\n",
        "def init_video_capture(source):\n",
        "    \"\"\"Initialize video capture from file or camera\"\"\"\n",
        "    cap = cv2.VideoCapture(source)\n",
        "    if not cap.isOpened():\n",
        "        raise Exception(f\"Error: Could not open video source {source}\")\n",
        "    return cap\n",
        "\n",
        "def init_video_writer(cap, output_filename):\n",
        "    \"\"\"Initialize video writer with same parameters as input video\"\"\"\n",
        "    width = int(cap.get(cv2.CAP_PROP_FRAME_WIDTH))\n",
        "    height = int(cap.get(cv2.CAP_PROP_FRAME_HEIGHT))\n",
        "    fps = int(cap.get(cv2.CAP_PROP_FPS))\n",
        "    fourcc = cv2.VideoWriter_fourcc('M','J','P','G')\n",
        "    return cv2.VideoWriter(output_filename, fourcc, fps, (width, height))\n",
        "\n",
        "def track_object(video_source, output_filename, lower_color, upper_color, min_radius=25):\n",
        "    \"\"\"\n",
        "    Track colored object in video\n",
        "\n",
        "    Parameters:\n",
        "    video_source: int or str - Camera index or video file path\n",
        "    output_filename: str - Output video file path\n",
        "    lower_color: np.array - Lower HSV color bound\n",
        "    upper_color: np.array - Upper HSV color bound\n",
        "    min_radius: int - Minimum radius to track\n",
        "    \"\"\"\n",
        "    # Initialize video capture\n",
        "    cap = init_video_capture(video_source)\n",
        "\n",
        "    # Initialize video writer\n",
        "    out = init_video_writer(cap, output_filename)\n",
        "\n",
        "    # Read first frame to get dimensions\n",
        "    ret, frame = cap.read()\n",
        "    if not ret:\n",
        "        raise Exception(\"Could not read first frame\")\n",
        "\n",
        "    height, width = frame.shape[:2]\n",
        "    points = []  # Store tracking points\n",
        "\n",
        "    while True:\n",
        "        ret, frame = cap.read()\n",
        "        if not ret:\n",
        "            break\n",
        "\n",
        "        # Convert to HSV color space\n",
        "        hsv_img = cv2.cvtColor(frame, cv2.COLOR_BGR2HSV)\n",
        "\n",
        "        # Create mask for color detection\n",
        "        mask = cv2.inRange(hsv_img, lower_color, upper_color)\n",
        "\n",
        "        # Find contours\n",
        "        contours, _ = cv2.findContours(mask.copy(), cv2.RETR_EXTERNAL,\n",
        "                                     cv2.CHAIN_APPROX_SIMPLE)\n",
        "\n",
        "        # Default center point\n",
        "        center = (int(width/2), int(height/2))\n",
        "\n",
        "        if contours:\n",
        "            # Get largest contour\n",
        "            c = max(contours, key=cv2.contourArea)\n",
        "            (x, y), radius = cv2.minEnclosingCircle(c)\n",
        "            M = cv2.moments(c)\n",
        "\n",
        "            try:\n",
        "                center = (int(M[\"m10\"] / M[\"m00\"]), int(M[\"m01\"] / M[\"m00\"]))\n",
        "            except ZeroDivisionError:\n",
        "                continue\n",
        "\n",
        "            # Draw only if radius is large enough\n",
        "            if radius > min_radius:\n",
        "                cv2.circle(frame, (int(x), int(y)), int(radius), (0, 0, 255), 2)\n",
        "                cv2.circle(frame, center, 5, (0, 255, 0), -1)\n",
        "                points.append(center)\n",
        "\n",
        "                # Draw tracking line\n",
        "                for i in range(1, len(points)):\n",
        "                    try:\n",
        "                        cv2.line(frame, points[i - 1], points[i], (0, 255, 0), 2)\n",
        "                    except:\n",
        "                        pass\n",
        "\n",
        "        out.write(frame)\n",
        "\n",
        "        # Press 'q' to quit\n",
        "        if cv2.waitKey(1) & 0xFF == ord('q'):\n",
        "            break\n",
        "\n",
        "    cap.release()\n",
        "    out.release()\n",
        "    cv2.destroyAllWindows()\n",
        "\n",
        "# Example usage\n",
        "if __name__ == \"__main__\":\n",
        "    # Green color range in HSV\n",
        "    lower_green = np.array([20, 50, 90])\n",
        "    upper_green = np.array([40, 255, 255])\n",
        "\n",
        "    # For video file\n",
        "    try:\n",
        "        track_object(\n",
        "            video_source='/content/4568863-hd_1920_1080_30fps.mp4',  # Video fayl manzili\n",
        "            output_filename='output.avi',\n",
        "            lower_color=lower_green,\n",
        "            upper_color=upper_green\n",
        "        )\n",
        "    except Exception as e:\n",
        "        print(f\"Error: {e}\")"
      ],
      "metadata": {
        "id": "lscAqWrfdqoF"
      },
      "execution_count": null,
      "outputs": []
    },
    {
      "cell_type": "code",
      "metadata": {
        "colab": {
          "base_uri": "https://localhost:8080/"
        },
        "id": "12D1FPhXTewX",
        "outputId": "685d11c4-a017-40d0-ee1f-c217eea11640"
      },
      "source": [
        "!ffmpeg -i /content/output.avi bmwm4_output.mp4 -y"
      ],
      "execution_count": null,
      "outputs": [
        {
          "output_type": "stream",
          "name": "stdout",
          "text": [
            "ffmpeg version 4.4.2-0ubuntu0.22.04.1 Copyright (c) 2000-2021 the FFmpeg developers\n",
            "  built with gcc 11 (Ubuntu 11.2.0-19ubuntu1)\n",
            "  configuration: --prefix=/usr --extra-version=0ubuntu0.22.04.1 --toolchain=hardened --libdir=/usr/lib/x86_64-linux-gnu --incdir=/usr/include/x86_64-linux-gnu --arch=amd64 --enable-gpl --disable-stripping --enable-gnutls --enable-ladspa --enable-libaom --enable-libass --enable-libbluray --enable-libbs2b --enable-libcaca --enable-libcdio --enable-libcodec2 --enable-libdav1d --enable-libflite --enable-libfontconfig --enable-libfreetype --enable-libfribidi --enable-libgme --enable-libgsm --enable-libjack --enable-libmp3lame --enable-libmysofa --enable-libopenjpeg --enable-libopenmpt --enable-libopus --enable-libpulse --enable-librabbitmq --enable-librubberband --enable-libshine --enable-libsnappy --enable-libsoxr --enable-libspeex --enable-libsrt --enable-libssh --enable-libtheora --enable-libtwolame --enable-libvidstab --enable-libvorbis --enable-libvpx --enable-libwebp --enable-libx265 --enable-libxml2 --enable-libxvid --enable-libzimg --enable-libzmq --enable-libzvbi --enable-lv2 --enable-omx --enable-openal --enable-opencl --enable-opengl --enable-sdl2 --enable-pocketsphinx --enable-librsvg --enable-libmfx --enable-libdc1394 --enable-libdrm --enable-libiec61883 --enable-chromaprint --enable-frei0r --enable-libx264 --enable-shared\n",
            "  libavutil      56. 70.100 / 56. 70.100\n",
            "  libavcodec     58.134.100 / 58.134.100\n",
            "  libavformat    58. 76.100 / 58. 76.100\n",
            "  libavdevice    58. 13.100 / 58. 13.100\n",
            "  libavfilter     7.110.100 /  7.110.100\n",
            "  libswscale      5.  9.100 /  5.  9.100\n",
            "  libswresample   3.  9.100 /  3.  9.100\n",
            "  libpostproc    55.  9.100 / 55.  9.100\n",
            "Input #0, avi, from '/content/output.avi':\n",
            "  Metadata:\n",
            "    software        : Lavf59.27.100\n",
            "  Duration: 00:00:19.28, start: 0.000000, bitrate: 54288 kb/s\n",
            "  Stream #0:0: Video: mjpeg (Baseline) (MJPG / 0x47504A4D), yuvj420p(pc, bt470bg/unknown/unknown), 1920x1080, 54368 kb/s, 29 fps, 29 tbr, 29 tbn, 29 tbc\n",
            "Stream mapping:\n",
            "  Stream #0:0 -> #0:0 (mjpeg (native) -> h264 (libx264))\n",
            "Press [q] to stop, [?] for help\n",
            "\u001b[1;36m[libx264 @ 0x5c90f516cf40] \u001b[0musing cpu capabilities: MMX2 SSE2Fast SSSE3 SSE4.2 AVX FMA3 BMI2 AVX2\n",
            "\u001b[1;36m[libx264 @ 0x5c90f516cf40] \u001b[0mprofile High, level 4.0, 4:2:0, 8-bit\n",
            "\u001b[1;36m[libx264 @ 0x5c90f516cf40] \u001b[0m264 - core 163 r3060 5db6aa6 - H.264/MPEG-4 AVC codec - Copyleft 2003-2021 - http://www.videolan.org/x264.html - options: cabac=1 ref=3 deblock=1:0:0 analyse=0x3:0x113 me=hex subme=7 psy=1 psy_rd=1.00:0.00 mixed_ref=1 me_range=16 chroma_me=1 trellis=1 8x8dct=1 cqm=0 deadzone=21,11 fast_pskip=1 chroma_qp_offset=-2 threads=3 lookahead_threads=1 sliced_threads=0 nr=0 decimate=1 interlaced=0 bluray_compat=0 constrained_intra=0 bframes=3 b_pyramid=2 b_adapt=1 b_bias=0 direct=1 weightb=1 open_gop=0 weightp=2 keyint=250 keyint_min=25 scenecut=40 intra_refresh=0 rc_lookahead=40 rc=crf mbtree=1 crf=23.0 qcomp=0.60 qpmin=0 qpmax=69 qpstep=4 ip_ratio=1.40 aq=1:1.00\n",
            "Output #0, mp4, to 'bmwm4_output.mp4':\n",
            "  Metadata:\n",
            "    software        : Lavf59.27.100\n",
            "    encoder         : Lavf58.76.100\n",
            "  Stream #0:0: Video: h264 (avc1 / 0x31637661), yuvj420p(pc, bt470bg/unknown/unknown, progressive), 1920x1080, q=2-31, 29 fps, 14848 tbn\n",
            "    Metadata:\n",
            "      encoder         : Lavc58.134.100 libx264\n",
            "    Side data:\n",
            "      cpb: bitrate max/min/avg: 0/0/0 buffer size: 0 vbv_delay: N/A\n",
            "frame=  559 fps=6.5 q=-1.0 Lsize=   13607kB time=00:00:19.17 bitrate=5814.0kbits/s speed=0.224x    \n",
            "video:13600kB audio:0kB subtitle:0kB other streams:0kB global headers:0kB muxing overhead: 0.055465%\n",
            "\u001b[1;36m[libx264 @ 0x5c90f516cf40] \u001b[0mframe I:3     Avg QP:21.84  size:174159\n",
            "\u001b[1;36m[libx264 @ 0x5c90f516cf40] \u001b[0mframe P:141   Avg QP:23.83  size: 61906\n",
            "\u001b[1;36m[libx264 @ 0x5c90f516cf40] \u001b[0mframe B:415   Avg QP:27.10  size: 11263\n",
            "\u001b[1;36m[libx264 @ 0x5c90f516cf40] \u001b[0mconsecutive B-frames:  0.9%  0.4%  0.0% 98.7%\n",
            "\u001b[1;36m[libx264 @ 0x5c90f516cf40] \u001b[0mmb I  I16..4:  3.3% 94.0%  2.7%\n",
            "\u001b[1;36m[libx264 @ 0x5c90f516cf40] \u001b[0mmb P  I16..4:  0.9% 16.2%  0.4%  P16..4: 47.3% 14.3% 10.2%  0.0%  0.0%    skip:10.6%\n",
            "\u001b[1;36m[libx264 @ 0x5c90f516cf40] \u001b[0mmb B  I16..4:  0.4%  1.6%  0.1%  B16..8: 38.9%  3.2%  0.8%  direct: 1.2%  skip:54.1%  L0:44.6% L1:50.6% BI: 4.7%\n",
            "\u001b[1;36m[libx264 @ 0x5c90f516cf40] \u001b[0m8x8 transform intra:89.4% inter:79.3%\n",
            "\u001b[1;36m[libx264 @ 0x5c90f516cf40] \u001b[0mcoded y,uvDC,uvAC intra: 73.4% 67.4% 9.2% inter: 15.6% 15.8% 1.3%\n",
            "\u001b[1;36m[libx264 @ 0x5c90f516cf40] \u001b[0mi16 v,h,dc,p: 18% 54% 13% 15%\n",
            "\u001b[1;36m[libx264 @ 0x5c90f516cf40] \u001b[0mi8 v,h,dc,ddl,ddr,vr,hd,vl,hu: 16% 32% 34%  2%  4%  2%  6%  2%  3%\n",
            "\u001b[1;36m[libx264 @ 0x5c90f516cf40] \u001b[0mi4 v,h,dc,ddl,ddr,vr,hd,vl,hu: 15% 35% 14%  3%  7%  6% 13%  3%  5%\n",
            "\u001b[1;36m[libx264 @ 0x5c90f516cf40] \u001b[0mi8c dc,h,v,p: 47% 34% 16%  2%\n",
            "\u001b[1;36m[libx264 @ 0x5c90f516cf40] \u001b[0mWeighted P-Frames: Y:5.0% UV:0.0%\n",
            "\u001b[1;36m[libx264 @ 0x5c90f516cf40] \u001b[0mref P L0: 55.4% 10.9% 30.8%  2.8%  0.1%\n",
            "\u001b[1;36m[libx264 @ 0x5c90f516cf40] \u001b[0mref B L0: 94.9%  4.4%  0.7%\n",
            "\u001b[1;36m[libx264 @ 0x5c90f516cf40] \u001b[0mref B L1: 98.6%  1.4%\n",
            "\u001b[1;36m[libx264 @ 0x5c90f516cf40] \u001b[0mkb/s:5779.36\n"
          ]
        }
      ]
    },
    {
      "cell_type": "code",
      "metadata": {
        "id": "AU1kp6WzUysK"
      },
      "source": [
        "from IPython.display import HTML\n",
        "from base64 import b64encode\n",
        "\n",
        "mp4 = open('bmwm4_output.mp4','rb').read()\n",
        "data_url = \"data:video/mp4;base64,\" + b64encode(mp4).decode()"
      ],
      "execution_count": null,
      "outputs": []
    },
    {
      "cell_type": "code",
      "metadata": {
        "colab": {
          "base_uri": "https://localhost:8080/",
          "height": 1000
        },
        "id": "DPF0LEo-U1Gl",
        "outputId": "bc96aa91-d4bb-4a34-ae12-97e59cb9a7d3"
      },
      "source": [
        "HTML(\"\"\"\n",
        "<video controls>\n",
        "      <source src=\"%s\" type=\"video/mp4\">\n",
        "</video>\n",
        "\"\"\" % data_url)"
      ],
      "execution_count": null,
      "outputs": []
    }
  ]
}