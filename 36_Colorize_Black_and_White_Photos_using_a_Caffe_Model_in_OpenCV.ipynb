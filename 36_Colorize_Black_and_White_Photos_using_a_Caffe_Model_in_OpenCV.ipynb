{
  "nbformat": 4,
  "nbformat_minor": 0,
  "metadata": {
    "colab": {
      "provenance": [],
      "include_colab_link": true
    },
    "kernelspec": {
      "name": "python3",
      "display_name": "Python 3"
    }
  },
  "cells": [
    {
      "cell_type": "markdown",
      "metadata": {
        "id": "view-in-github",
        "colab_type": "text"
      },
      "source": [
        "<a href=\"https://colab.research.google.com/github/Davron030901/OpenCv/blob/main/36_Colorize_Black_and_White_Photos_using_a_Caffe_Model_in_OpenCV.ipynb\" target=\"_parent\"><img src=\"https://colab.research.google.com/assets/colab-badge.svg\" alt=\"Open In Colab\"/></a>"
      ]
    },
    {
      "cell_type": "markdown",
      "metadata": {
        "id": "lH20CotmWg8i"
      },
      "source": [
        "# **Colorize Black and White Photos using a Caffe Model in OpenCV**\n",
        "\n",
        "**In this lesson we'll learn how to use pre-trained models to automatically Colorize a Black and White (grayscale) Photo**\n"
      ]
    },
    {
      "cell_type": "markdown",
      "metadata": {
        "id": "wVVkWZIPXLh6"
      },
      "source": [
        "### **Colorizing black and white images is an amazingly useful and incredible technique achieved by deep learning.**\n",
        "\n",
        "[Colorful Image Colorization ](http://arxiv.org/pdf/1603.08511.pdf)\n",
        "\n",
        "- The authors embrace the underlying uncertainty of the problem (black and white to color conversion) by posing it as a classification task and use class-rebalancing at training time to increase the diversity of colors in the result.\n",
        "- The system is implemented as a feed-forward pass in a CNN at test time and is trained on over a million color images.\n",
        "- They evaluate our algorithm using a “colorization Turing test,” asking human participants to choose between a generated and ground truth color image.\n",
        "- Their method successfully fools humans on 32% of the trials, significantly higher than previous methods.\n",
        "\n",
        "![](http://richzhang.github.io/colorization/resources/images/teaser3.jpg)\n",
        "\n",
        "by Richard Zhang, Phillip Isola, Alexei A. Efros. In ECCV, 2016.\n",
        "\n",
        "We'll be using the following Caffe model files that we'll download in the next cell below. These will be then loaded into OpenCV:\n",
        "\n",
        "1. colorization_deploy_v2.prototext\n",
        "2. colorization_release_v2.caffe\n",
        "3. pts_in_hull.npy"
      ]
    },
    {
      "cell_type": "code",
      "metadata": {
        "colab": {
          "base_uri": "https://localhost:8080/"
        },
        "id": "2oKlSv7zX7Sa",
        "outputId": "bf4c271a-b4ff-4a2c-bcb4-91ec73459246"
      },
      "source": [
        "-0# Our Setup, Import Libaries, Create our Imshow Function and Download our Images\n",
        "import cv2\n",
        "import numpy as np\n",
        "from os import listdir\n",
        "from os.path import isfile, join\n",
        "from matplotlib import pyplot as plt\n",
        "\n",
        "# Define our imshow function\n",
        "def imshow(title = \"Image\", image = None, size = 10):\n",
        "    w, h = image.shape[0], image.shape[1]\n",
        "    aspect_ratio = w/h\n",
        "    plt.figure(figsize=(size * aspect_ratio,size))\n",
        "    plt.imshow(cv2.cvtColor(image, cv2.COLOR_BGR2RGB))\n",
        "    plt.title(title)\n",
        "    plt.show()\n",
        "\n",
        "# Download and unzip our images\n",
        "!wget https://moderncomputervision.s3.eu-west-2.amazonaws.com/colorize.zip\n",
        "!unzip -qq colorize.zip"
      ],
      "execution_count": null,
      "outputs": [
        {
          "output_type": "stream",
          "name": "stdout",
          "text": [
            "../models/colorization_release_v2_norebal.caffemodel: No such file or directory\n"
          ]
        }
      ]
    },
    {
      "cell_type": "code",
      "metadata": {
        "colab": {
          "base_uri": "https://localhost:8080/",
          "height": 211
        },
        "id": "4TA6L1jhVJW3",
        "outputId": "909fa56b-dc1a-4d83-da99-2db453ddb443"
      },
      "source": [
        "\n",
        "# Script is based on https://github.com/richzhang/colorization/blob/master/colorize.py\n",
        "# To download the caffemodel and the prototxt, see: https://github.com/richzhang/colorization/tree/master/models\n",
        "# To download pts_in_hull.npy, see: https://github.com/richzhang/colorization/blob/master/resources/pts_in_hull.npy\n",
        "\n",
        "# Get our images\n",
        "file_path = \"colorize/blackandwhite/\"\n",
        "blackandwhite_imgs = [f for f in listdir(file_path) if isfile(join(file_path, f))]\n",
        "kernel = 'colorize/pts_in_hull.npy'\n",
        "\n",
        "# Start the main program\n",
        "if __name__ == '__main__':\n",
        "\n",
        "    # Select desired model\n",
        "    net = cv2.dnn.readNetFromCaffe(\"colorize/colorization_deploy_v2.prototxt\",\n",
        "                               \"colorize/colorization_release_v2.caffemodel\")\n",
        "\n",
        "    # load cluster centers\n",
        "    pts_in_hull = np.load(kernel)\n",
        "\n",
        "    # populate cluster centers as 1x1 convolution kernel\n",
        "    pts_in_hull = pts_in_hull.transpose().reshape(2, 313, 1, 1)\n",
        "    net.getLayer(net.getLayerId('class8_ab')).blobs = [pts_in_hull.astype(np.float32)]\n",
        "    net.getLayer(net.getLayerId('conv8_313_rh')).blobs = [np.full([1, 313], 2.606, np.float32)]\n",
        "\n",
        "    for image in blackandwhite_imgs:\n",
        "        img = cv2.imread(file_path+image)\n",
        "\n",
        "        img_rgb = (img[:,:,[2, 1, 0]] * 1.0 / 255).astype(np.float32)\n",
        "        img_lab = cv2.cvtColor(img_rgb, cv2.COLOR_BGR2LAB)\n",
        "\n",
        "        # pull out L channel\n",
        "        img_l = img_lab[:,:,0]\n",
        "\n",
        "        # get original image size\n",
        "        (H_orig,W_orig) = img_rgb.shape[:2]\n",
        "\n",
        "        # resize image to network input size\n",
        "        img_rs = cv2.resize(img_rgb, (224, 224))\n",
        "\n",
        "        # resize image to network input size\n",
        "        img_lab_rs = cv2.cvtColor(img_rs, cv2.COLOR_RGB2Lab)\n",
        "        img_l_rs = img_lab_rs[:,:,0]\n",
        "\n",
        "        # subtract 50 for mean-centering\n",
        "        img_l_rs -= 50\n",
        "\n",
        "        net.setInput(cv2.dnn.blobFromImage(img_l_rs))\n",
        "\n",
        "        # this is our result\n",
        "        ab_dec = net.forward('class8_ab')[0,:,:,:].transpose((1,2,0))\n",
        "\n",
        "        (H_out,W_out) = ab_dec.shape[:2]\n",
        "        ab_dec_us = cv2.resize(ab_dec, (W_orig, H_orig))\n",
        "        img_lab_out = np.concatenate((img_l[:,:,np.newaxis],ab_dec_us),axis=2)\n",
        "\n",
        "        # concatenate with original image L\n",
        "        img_bgr_out = np.clip(cv2.cvtColor(img_lab_out, cv2.COLOR_Lab2BGR), 0, 1)\n",
        "\n",
        "        # show original image\n",
        "        imshow('Original', img)\n",
        "        # Resize the corlized image to it's orginal dimensions\n",
        "        img_bgr_out = cv2.resize(img_bgr_out, (W_orig, H_orig), interpolation = cv2.INTER_AREA)\n",
        "        imshow('Colorized', img_bgr_out)"
      ],
      "execution_count": null,
      "outputs": [
        {
          "output_type": "error",
          "ename": "FileNotFoundError",
          "evalue": "[Errno 2] No such file or directory: 'blackandwhite/'",
          "traceback": [
            "\u001b[0;31m---------------------------------------------------------------------------\u001b[0m",
            "\u001b[0;31mFileNotFoundError\u001b[0m                         Traceback (most recent call last)",
            "\u001b[0;32m<ipython-input-7-7f821a8cfd01>\u001b[0m in \u001b[0;36m<cell line: 7>\u001b[0;34m()\u001b[0m\n\u001b[1;32m      5\u001b[0m \u001b[0;31m# Get our images\u001b[0m\u001b[0;34m\u001b[0m\u001b[0;34m\u001b[0m\u001b[0m\n\u001b[1;32m      6\u001b[0m \u001b[0;31m# file_path = \"blackandwhite/\"\u001b[0m\u001b[0;34m\u001b[0m\u001b[0;34m\u001b[0m\u001b[0m\n\u001b[0;32m----> 7\u001b[0;31m \u001b[0mblackandwhite_imgs\u001b[0m \u001b[0;34m=\u001b[0m \u001b[0;34m[\u001b[0m\u001b[0mf\u001b[0m \u001b[0;32mfor\u001b[0m \u001b[0mf\u001b[0m \u001b[0;32min\u001b[0m \u001b[0mlistdir\u001b[0m\u001b[0;34m(\u001b[0m\u001b[0mfile_path\u001b[0m\u001b[0;34m)\u001b[0m \u001b[0;32mif\u001b[0m \u001b[0misfile\u001b[0m\u001b[0;34m(\u001b[0m\u001b[0mjoin\u001b[0m\u001b[0;34m(\u001b[0m\u001b[0mfile_path\u001b[0m\u001b[0;34m,\u001b[0m \u001b[0mf\u001b[0m\u001b[0;34m)\u001b[0m\u001b[0;34m)\u001b[0m\u001b[0;34m]\u001b[0m\u001b[0;34m\u001b[0m\u001b[0;34m\u001b[0m\u001b[0m\n\u001b[0m\u001b[1;32m      8\u001b[0m \u001b[0mkernel\u001b[0m \u001b[0;34m=\u001b[0m \u001b[0;34m'pts_in_hull.npy'\u001b[0m\u001b[0;34m\u001b[0m\u001b[0;34m\u001b[0m\u001b[0m\n\u001b[1;32m      9\u001b[0m \u001b[0;34m\u001b[0m\u001b[0m\n",
            "\u001b[0;31mFileNotFoundError\u001b[0m: [Errno 2] No such file or directory: 'blackandwhite/'"
          ]
        }
      ]
    }
  ]
}